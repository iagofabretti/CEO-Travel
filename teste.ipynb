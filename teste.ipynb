{
 "cells": [
  {
   "cell_type": "code",
   "execution_count": 7,
   "id": "87a1f192",
   "metadata": {},
   "outputs": [
    {
     "name": "stdout",
     "output_type": "stream",
     "text": [
      "Status: 200\n",
      "Resposta do servidor:\n",
      "<!DOCTYPE html><html><head><link rel=\"shortcut icon\" href=\"//ssl.gstatic.com/docs/script/images/favicon.ico\"><title>Erro</title><style type=\"text/css\" nonce=\"ER3x3w5tcY1YWGIzsGxzzg\">body {background-color: #fff; margin: 0; padding: 0;}.errorMessage {font-family: Arial,sans-serif; font-size: 12pt; font-weight: bold; line-height: 150%; padding-top: 25px;}</style></head><body style=\"margin:20px\"><div><img alt=\"Google Apps Script\" src=\"//ssl.gstatic.com/docs/script/images/logo.png\"></div><div style=\"text-align:center;font-family:monospace;margin:50px auto 0;max-width:600px\">TypeError: ContentService.createTextOutput(...).setMimeType(...).setHeader is not a function (linha 123, arquivo &quot;Codigo&quot;)</div></body></html>\n"
     ]
    }
   ],
   "source": [
    "import requests\n",
    "\n",
    "# URL do seu Google Apps Script\n",
    "url = \"https://script.google.com/macros/s/AKfycbzz4rhjOTg3GhF2Pm0LL1CrhvBNEmXTcfkH6C9CeR54GCkFKggZsC8bgSEwXt3lkysM3A/exec\"\n",
    "\n",
    "# Dados que você quer enviar (pode adaptar conforme o script espera)\n",
    "dados = {\n",
    "    \"nome\": \"Iago\",\n",
    "    \"email\": \"iago@example.com\",\n",
    "    \"mensagem\": \"Teste de integração Python -> Google Script\"\n",
    "}\n",
    "\n",
    "try:\n",
    "    # Enviando dados via POST\n",
    "    resposta = requests.post(url, data=dados)\n",
    "\n",
    "    # Mostrando resultado\n",
    "    print(\"Status:\", resposta.status_code)\n",
    "    print(\"Resposta do servidor:\")\n",
    "    print(resposta.text)\n",
    "\n",
    "except Exception as e:\n",
    "    print(\"Erro ao enviar:\", e)\n"
   ]
  }
 ],
 "metadata": {
  "kernelspec": {
   "display_name": "Python 3",
   "language": "python",
   "name": "python3"
  },
  "language_info": {
   "codemirror_mode": {
    "name": "ipython",
    "version": 3
   },
   "file_extension": ".py",
   "mimetype": "text/x-python",
   "name": "python",
   "nbconvert_exporter": "python",
   "pygments_lexer": "ipython3",
   "version": "3.13.7"
  }
 },
 "nbformat": 4,
 "nbformat_minor": 5
}
